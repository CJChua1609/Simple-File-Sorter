{
 "cells": [
  {
   "cell_type": "markdown",
   "metadata": {},
   "source": [
    "# File Sorter"
   ]
  },
  {
   "cell_type": "code",
   "execution_count": null,
   "metadata": {},
   "outputs": [],
   "source": [
    "import os\n",
    "# import shutil    # for further implementations\n",
    "import tkinter as tk"
   ]
  },
  {
   "cell_type": "markdown",
   "metadata": {},
   "source": [
    "GUI"
   ]
  },
  {
   "cell_type": "code",
   "execution_count": null,
   "metadata": {},
   "outputs": [],
   "source": [
    "# tkinter GUI"
   ]
  },
  {
   "cell_type": "markdown",
   "metadata": {},
   "source": [
    "User input Prompt for Directory to sort"
   ]
  },
  {
   "cell_type": "code",
   "execution_count": null,
   "metadata": {},
   "outputs": [],
   "source": [
    "path = input(\"Enter the target directory: \")\n",
    "title = path.rsplit('\\\\', 1)[1]\n",
    "existDir = []\n",
    "print(f\"\\nSorting of the directory: \\\"{path}\\\"\")\n",
    "print(\"================================================\")\n",
    "# os.listdir(path)"
   ]
  },
  {
   "cell_type": "markdown",
   "metadata": {},
   "source": [
    "List existing folders & prepend title to files"
   ]
  },
  {
   "cell_type": "code",
   "execution_count": null,
   "metadata": {},
   "outputs": [],
   "source": [
    "dict = {}\n",
    "for file in os.listdir(path):\n",
    "    # Check for existing folders\n",
    "    if os.path.isdir(os.path.join(path, file)):\n",
    "        existDir.append(file)\n",
    "        continue\n",
    "    \n",
    "    # for creating new directories\n",
    "    if file.split('_')[0] != title:\n",
    "        if file.split('_')[0] in existDir:\n",
    "            pass\n",
    "        elif file.split('_')[0] not in dict: \n",
    "            dict[file.split('_')[0]] = 1\n",
    "        else:\n",
    "            dict[file.split('_')[0]] += 1\n",
    "        f = '_'.join([title, file])\n",
    "        # Prepend files with parent folder's name (Title)\n",
    "        os.rename(os.path.join(path, file), os.path.join(path, f))\n",
    "    else:\n",
    "        if file.split('_')[0] in existDir:\n",
    "            pass\n",
    "        elif file.split('_')[1] not in dict: \n",
    "            dict[file.split('_')[1]] = 1\n",
    "        else:\n",
    "            dict[file.split('_')[1]] += 1\n",
    "        "
   ]
  },
  {
   "cell_type": "code",
   "execution_count": null,
   "metadata": {},
   "outputs": [],
   "source": [
    "print(f\"Existing Directories: {existDir}\\n\")"
   ]
  },
  {
   "cell_type": "code",
   "execution_count": null,
   "metadata": {},
   "outputs": [],
   "source": [
    "print(f\"New named Directories: {dict}\\n\")"
   ]
  },
  {
   "cell_type": "markdown",
   "metadata": {},
   "source": [
    "Creating New Directories when common names are identified "
   ]
  },
  {
   "cell_type": "code",
   "execution_count": null,
   "metadata": {},
   "outputs": [],
   "source": [
    "dirNewGrp = [v for v in dict if dict[v] > 1]\n",
    "\n",
    "for name in dirNewGrp:\n",
    "    if name in existDir:\n",
    "        continue\n",
    "    os.mkdir(os.path.join(path, name))\n",
    "    existDir.append(name)"
   ]
  },
  {
   "cell_type": "code",
   "execution_count": null,
   "metadata": {},
   "outputs": [],
   "source": [
    "print(f\"Directories to be added: {dirNewGrp}\")"
   ]
  },
  {
   "cell_type": "code",
   "execution_count": null,
   "metadata": {},
   "outputs": [],
   "source": [
    "print(f\"New Existing Directories: {existDir}\")"
   ]
  },
  {
   "cell_type": "markdown",
   "metadata": {},
   "source": [
    "Functions for sorting"
   ]
  },
  {
   "cell_type": "code",
   "execution_count": null,
   "metadata": {},
   "outputs": [],
   "source": [
    "# sorting based on common names\n",
    "def fileToDir(file):\n",
    "    #f = file.split(\".\")[0] # temporarily remove extensions from a file name\n",
    "    f = file.split(\"_\")\n",
    "\n",
    "    if f[1] in existDir:\n",
    "        os.rename(os.path.join(path, file), os.path.join(path, f[1], file))\n",
    "        print(f\"\\\"{file}\\\" is moved into \\\"{f[1]}\\\"\")\n",
    "        return True\n",
    "    return False\n",
    "\n",
    "# sorting based on file types\n",
    "def fileSorting(path, file, dirname):\n",
    "    if not os.path.exists(os.path.join(path, dirname)):\n",
    "        os.mkdir(os.path.join(path, dirname))\n",
    "    os.rename(os.path.join(path, file), os.path.join(path, dirname, file))\n",
    "    print(f\"\\\"{file}\\\" is moved into \\\"{dirname}\\\"\")"
   ]
  },
  {
   "cell_type": "code",
   "execution_count": null,
   "metadata": {},
   "outputs": [],
   "source": [
    "for file in os.listdir(path):\n",
    "    # skip all directories\n",
    "    if os.path.isdir(os.path.join(path, file)):\n",
    "        print(f\"\\\"{file}\\\"\" + \" is a directory\")\n",
    "        continue\n",
    "\n",
    "    # for files that has their respective folders\n",
    "    if fileToDir(file):\n",
    "        continue\n",
    "\n",
    "    # for all other PDF files\n",
    "    if file.endswith((\".pdf\", \".PDF\")):\n",
    "        fileSorting(path, file, \"PDF\")\n",
    "\n",
    "    # for all other images\n",
    "    elif file.endswith((\".png\",\".PNG\", \".jpeg\", \".JPEG\", \".jpg\", \".JPG\")):\n",
    "        fileSorting(path, file, \"Images\")\n",
    "\n",
    "    # for all other txt files\n",
    "    elif file.endswith(\".txt\"):\n",
    "        fileSorting(path, file, \"Notes\")\n"
   ]
  },
  {
   "cell_type": "code",
   "execution_count": null,
   "metadata": {},
   "outputs": [],
   "source": [
    "print(\"================================================\\nDone!\")"
   ]
  }
 ],
 "metadata": {
  "kernelspec": {
   "display_name": "Python 3",
   "language": "python",
   "name": "python3"
  },
  "language_info": {
   "codemirror_mode": {
    "name": "ipython",
    "version": 3
   },
   "file_extension": ".py",
   "mimetype": "text/x-python",
   "name": "python",
   "nbconvert_exporter": "python",
   "pygments_lexer": "ipython3",
   "version": "3.11.7"
  }
 },
 "nbformat": 4,
 "nbformat_minor": 2
}
